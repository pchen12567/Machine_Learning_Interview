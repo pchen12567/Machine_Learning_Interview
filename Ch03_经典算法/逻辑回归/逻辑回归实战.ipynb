{
 "cells": [
  {
   "cell_type": "markdown",
   "metadata": {},
   "source": [
    "# 逻辑回归实战"
   ]
  },
  {
   "cell_type": "markdown",
   "metadata": {},
   "source": [
    "## 1. 理论快速回顾"
   ]
  },
  {
   "cell_type": "markdown",
   "metadata": {},
   "source": [
    "### 1.1 模型函数"
   ]
  },
  {
   "cell_type": "markdown",
   "metadata": {},
   "source": [
    "$$ y = h(z) = \\frac{1}{1 + e^{-z}} $$"
   ]
  },
  {
   "cell_type": "markdown",
   "metadata": {},
   "source": [
    "其中：$ z = \\theta^T x$"
   ]
  },
  {
   "cell_type": "markdown",
   "metadata": {},
   "source": [
    "一般而言， 当 y > 0.5 时，z 被归类为真（True）或阳性（Positive），否则当 y <= 0.5 时，z被归类为假(False)或阴性(Negative)。\n",
    "\n",
    "所以，在模型输出预测结果时，不必输出y的具体取值，而是根据上述判别标准，输出1（真）或0（假）。"
   ]
  },
  {
   "cell_type": "markdown",
   "metadata": {},
   "source": [
    "### 1.2 损失函数"
   ]
  },
  {
   "cell_type": "markdown",
   "metadata": {},
   "source": [
    "训练逻辑回归函数，已知了样本点(x,y)，目的是求出一组参数$\\theta$。"
   ]
  },
  {
   "cell_type": "markdown",
   "metadata": {},
   "source": [
    "模型函数 y=1 表示样本点为阳性，故而可以得到：\n",
    "$$ P(y=1|x) = h(x); \\quad P(y=0|x) = 1 - h(x) $$"
   ]
  },
  {
   "cell_type": "markdown",
   "metadata": {},
   "source": [
    "对于这个二项分布，有：\n",
    "$$ P(y|x) = h(x)^y \\: (1 - h(x))^{(1-y)}$$"
   ]
  },
  {
   "cell_type": "markdown",
   "metadata": {},
   "source": [
    "对于m个数据，有：\n",
    "$$ L(\\theta) = \\frac{1}{m} \\: \\prod_{i=1}^m \\: P(y^{(i)}|x^{(i)}; \\theta) = \\frac{1}{m} \\: \\prod_{i=1}^m \\: (h_\\theta(x^{(i)}))^{y^{(i)}} \\: (1 - h_\\theta(x^{(i)}))^{(1 - y^{(i)})} $$"
   ]
  },
  {
   "cell_type": "markdown",
   "metadata": {},
   "source": [
    "为了方便计算，取负对数得到：\n",
    "$$ J(\\theta) = -\\frac{1}{m} \\: \\log(L(\\theta)) = -\\frac{1}{m} \\: \\sum_{i=1}^m [y^{(i)} \\: \\log(h_\\theta(x^{(i)})) + (1 - y^{(i)}) \\: \\log(1 - h_\\theta(x^{(i)}))] $$"
   ]
  },
  {
   "cell_type": "markdown",
   "metadata": {},
   "source": [
    "### 1.3 优化算法：梯度下降"
   ]
  },
  {
   "cell_type": "markdown",
   "metadata": {},
   "source": [
    "求导推导不展开，结果是：\n",
    "$$ \\frac{\\partial J(\\theta)}{\\partial \\theta_j} = \\frac{1}{m} \\: \\sum_{i=1}^m [h_\\theta(x^{(i)}) - y^{(i)}]x_j^{(i)} \\:; \\quad j = 1,2,...,n $$"
   ]
  },
  {
   "cell_type": "markdown",
   "metadata": {},
   "source": [
    "将之向量化后：\n",
    "$$ \\triangledown J(\\theta) = \\frac{1}{m} \\: X^T \\: (h(X\\theta) - y) $$"
   ]
  },
  {
   "cell_type": "markdown",
   "metadata": {},
   "source": [
    "其中：h是sigmoid函数。"
   ]
  },
  {
   "cell_type": "markdown",
   "metadata": {},
   "source": [
    "## 2. 实战"
   ]
  },
  {
   "cell_type": "markdown",
   "metadata": {},
   "source": [
    "### 2.1 sigmoid函数实现"
   ]
  },
  {
   "cell_type": "code",
   "execution_count": 1,
   "metadata": {
    "ExecuteTime": {
     "end_time": "2019-06-27T19:46:40.219232Z",
     "start_time": "2019-06-27T19:46:40.014265Z"
    }
   },
   "outputs": [],
   "source": [
    "import numpy as np"
   ]
  },
  {
   "cell_type": "code",
   "execution_count": 2,
   "metadata": {
    "ExecuteTime": {
     "end_time": "2019-06-27T19:46:40.227888Z",
     "start_time": "2019-06-27T19:46:40.222799Z"
    }
   },
   "outputs": [],
   "source": [
    "def sigmoid(z):\n",
    "    return 1.0 / (1.0 + np.exp(-z))"
   ]
  },
  {
   "cell_type": "markdown",
   "metadata": {},
   "source": [
    "### 2.2 实现一个训练进行拟合的函数"
   ]
  },
  {
   "cell_type": "markdown",
   "metadata": {},
   "source": [
    "其中J表示损失函数，dJ表示损失函数求导后的形式，gradient_descent表示梯度下降函数。"
   ]
  },
  {
   "cell_type": "code",
   "execution_count": 3,
   "metadata": {
    "ExecuteTime": {
     "end_time": "2019-06-27T19:46:40.240554Z",
     "start_time": "2019-06-27T19:46:40.229648Z"
    }
   },
   "outputs": [],
   "source": [
    "# 使用梯度下降法训练Logisitc Regerssion模型\n",
    "def fit(X_train, y_train, alpha=0.01, n_iters=1e4):\n",
    "    # 损失函数\n",
    "    def J(theta, X_b, y):\n",
    "        y_hat = sigmoid(X_b.dot(theta))\n",
    "        m = len(y)\n",
    "        try:\n",
    "            return -np.sum(y * np.log(y_hat) + (1 - y) * np.log(1 - y_hat)) / m\n",
    "        except:\n",
    "            return float('inf')\n",
    "    \n",
    "    # 对损失函数求偏导\n",
    "    def dJ(theta, X_b, y):\n",
    "        m = len(y)\n",
    "        return X_b.T.dot(sigmoid(X_b.dot(theta)) - y) / m\n",
    "    \n",
    "    # 梯度下降\n",
    "    def gradient_descent(X_b, y, init_theta, alpha, n_iters=1e4, epsilon=1e-8):\n",
    "        # Set init theta\n",
    "        theta = init_theta\n",
    "        \n",
    "        # Set init iteration\n",
    "        cur_iter = 0\n",
    "        \n",
    "        # 设置循环停止条件\n",
    "        while cur_iter < n_iters:\n",
    "            # 计算梯度\n",
    "            gradient = dJ(theta, X_b, y)\n",
    "            \n",
    "            # 获取上一个theta\n",
    "            old_theta = theta\n",
    "            \n",
    "            # 更新theta\n",
    "            theta = theta - alpha * gradient\n",
    "            \n",
    "            # 设置循环停止条件\n",
    "            if abs(J(theta, X_b, y) - J(old_theta, X_b, y)) < epsilon:\n",
    "                break\n",
    "            \n",
    "            # 更新循环次数\n",
    "            cur_iter += 1\n",
    "        \n",
    "        # 返回梯度下降法求解出来的theta\n",
    "        return theta\n",
    "    \n",
    "    # 给 X_train 增加常数列 x=1\n",
    "    X_b = np.hstack([np.ones((len(X_train), 1)), X_train])\n",
    "    \n",
    "    # 设置初始化theta\n",
    "    init_theta = np.zeros(X_b.shape[1])\n",
    "    \n",
    "    # 求解参数theta\n",
    "    theta = gradient_descent(X_b, y_train, init_theta, alpha, n_iters)\n",
    "    \n",
    "    # 截距\n",
    "    intercept = theta[0]\n",
    "    \n",
    "    # X_i 前的参数\n",
    "    coef = theta[1:]\n",
    "    \n",
    "    return theta, intercept, coef"
   ]
  },
  {
   "cell_type": "markdown",
   "metadata": {},
   "source": [
    "### 2.3 实现一个预测函数"
   ]
  },
  {
   "cell_type": "markdown",
   "metadata": {},
   "source": [
    "其中需要注意，最终的预测函数predict返回的是0/1，而不是具体的概率。\n",
    "\n",
    "predict_prob 函数中返回的是具体的概率。"
   ]
  },
  {
   "cell_type": "code",
   "execution_count": 4,
   "metadata": {
    "ExecuteTime": {
     "end_time": "2019-06-27T19:46:40.252839Z",
     "start_time": "2019-06-27T19:46:40.245602Z"
    }
   },
   "outputs": [],
   "source": [
    "# 给定待预测数据集X_test，返回表示X_test的结果概率向量\n",
    "def predict_prob(X_test, theta):\n",
    "    # 给 X_test 增加常数列 x=1\n",
    "    X_b = np.hstack([np.ones((len(X_test), 1)), X_test])\n",
    "    return sigmoid(X_b.dot(theta))"
   ]
  },
  {
   "cell_type": "code",
   "execution_count": 5,
   "metadata": {
    "ExecuteTime": {
     "end_time": "2019-06-27T19:46:40.266347Z",
     "start_time": "2019-06-27T19:46:40.256296Z"
    }
   },
   "outputs": [],
   "source": [
    "# 给定待预测数据集X_test，返回表示X_test的结果向量\n",
    "def predict(X_test, theta):\n",
    "    prob = predict_prob(X_test, theta)\n",
    "    return np.array(prob >= 0.5, dtype='int')"
   ]
  },
  {
   "cell_type": "markdown",
   "metadata": {},
   "source": [
    "### 2.4 效果评测函数"
   ]
  },
  {
   "cell_type": "markdown",
   "metadata": {},
   "source": [
    "使用sklearn中的accuracy_score进行效果的评测"
   ]
  },
  {
   "cell_type": "code",
   "execution_count": 6,
   "metadata": {
    "ExecuteTime": {
     "end_time": "2019-06-27T19:46:40.922559Z",
     "start_time": "2019-06-27T19:46:40.268971Z"
    }
   },
   "outputs": [],
   "source": [
    "from sklearn.metrics import accuracy_score"
   ]
  },
  {
   "cell_type": "code",
   "execution_count": 7,
   "metadata": {
    "ExecuteTime": {
     "end_time": "2019-06-27T19:46:40.927905Z",
     "start_time": "2019-06-27T19:46:40.924596Z"
    }
   },
   "outputs": [],
   "source": [
    "def score(X_test, y_test, theta):\n",
    "    y_predict = predict(X_test, theta)\n",
    "    return accuracy_score(y_test, y_predict)"
   ]
  },
  {
   "cell_type": "markdown",
   "metadata": {},
   "source": [
    "## 3. 小数据集效果测试"
   ]
  },
  {
   "cell_type": "markdown",
   "metadata": {},
   "source": [
    "使用sklearn中提供的鸢尾花数据集，并且为了便于查看特征只取了一个维度数据。"
   ]
  },
  {
   "cell_type": "code",
   "execution_count": 8,
   "metadata": {
    "ExecuteTime": {
     "end_time": "2019-06-27T19:46:41.518130Z",
     "start_time": "2019-06-27T19:46:40.930425Z"
    }
   },
   "outputs": [],
   "source": [
    "from sklearn import datasets\n",
    "from sklearn.model_selection import train_test_split\n",
    "import matplotlib.pyplot as plt\n",
    "\n",
    "%matplotlib inline"
   ]
  },
  {
   "cell_type": "code",
   "execution_count": 9,
   "metadata": {
    "ExecuteTime": {
     "end_time": "2019-06-27T19:46:41.532139Z",
     "start_time": "2019-06-27T19:46:41.523006Z"
    }
   },
   "outputs": [],
   "source": [
    "# 取鸢尾花数据集\n",
    "iris = datasets.load_iris()\n",
    "X = iris.data\n",
    "y = iris.target"
   ]
  },
  {
   "cell_type": "code",
   "execution_count": 10,
   "metadata": {
    "ExecuteTime": {
     "end_time": "2019-06-27T19:46:41.548580Z",
     "start_time": "2019-06-27T19:46:41.537650Z"
    }
   },
   "outputs": [],
   "source": [
    "# 筛选特征\n",
    "X = X[y < 2, :2]\n",
    "y = y[y < 2]"
   ]
  },
  {
   "cell_type": "code",
   "execution_count": 11,
   "metadata": {
    "ExecuteTime": {
     "end_time": "2019-06-27T19:46:41.741419Z",
     "start_time": "2019-06-27T19:46:41.556160Z"
    }
   },
   "outputs": [
    {
     "data": {
      "image/png": "[encoded data removed]",
      "text/plain": [
       "<Figure size 432x288 with 1 Axes>"
      ]
     },
     "metadata": {
      "needs_background": "light"
     },
     "output_type": "display_data"
    }
   ],
   "source": [
    "# 绘制出图像\n",
    "plt.scatter(X[y == 0, 0], X[y == 0, 1], color=\"red\")\n",
    "plt.scatter(X[y == 1, 0], X[y == 1, 1], color=\"blue\")\n",
    "plt.show()"
   ]
  },
  {
   "cell_type": "code",
   "execution_count": 12,
   "metadata": {
    "ExecuteTime": {
     "end_time": "2019-06-27T19:46:41.751561Z",
     "start_time": "2019-06-27T19:46:41.743892Z"
    }
   },
   "outputs": [],
   "source": [
    "# 切分数据集\n",
    "X_train, X_test, y_train, y_test = train_test_split(X, y, random_state=666)"
   ]
  },
  {
   "cell_type": "code",
   "execution_count": 13,
   "metadata": {
    "ExecuteTime": {
     "end_time": "2019-06-27T19:46:42.270325Z",
     "start_time": "2019-06-27T19:46:41.761793Z"
    }
   },
   "outputs": [],
   "source": [
    "theta, intercept, coef = fit(X_train, y_train)"
   ]
  },
  {
   "cell_type": "code",
   "execution_count": 14,
   "metadata": {
    "ExecuteTime": {
     "end_time": "2019-06-27T19:46:42.278597Z",
     "start_time": "2019-06-27T19:46:42.272368Z"
    }
   },
   "outputs": [
    {
     "name": "stdout",
     "output_type": "stream",
     "text": [
      "theta:  [-0.68273837  3.01749692 -5.03046934]\n",
      "intercept -0.682738369899311\n",
      "coef [ 3.01749692 -5.03046934]\n"
     ]
    }
   ],
   "source": [
    "print('theta: ',theta)\n",
    "print('intercept', intercept)\n",
    "print('coef', coef)"
   ]
  },
  {
   "cell_type": "code",
   "execution_count": 15,
   "metadata": {
    "ExecuteTime": {
     "end_time": "2019-06-27T19:46:42.288235Z",
     "start_time": "2019-06-27T19:46:42.281326Z"
    }
   },
   "outputs": [
    {
     "name": "stdout",
     "output_type": "stream",
     "text": [
      "final score is :1.0\n",
      "actual prob is :\n",
      "[0.93292947 0.98717455 0.15541379 0.01786837 0.03909442 0.01972689\n",
      " 0.05214631 0.99683149 0.98092348 0.75469962 0.0473811  0.00362352\n",
      " 0.27122595 0.03909442 0.84902103 0.80627393 0.83574223 0.33477608\n",
      " 0.06921637 0.21582553 0.0240109  0.1836441  0.98092348 0.98947619\n",
      " 0.08342411]\n",
      "actual lable is:\n",
      "[1 1 0 0 0 0 0 1 1 1 0 0 0 0 1 1 1 0 0 0 0 0 1 1 0]\n"
     ]
    }
   ],
   "source": [
    "print(\"final score is :{}\".format(score(X_test, y_test, theta)))\n",
    "print(\"actual prob is :\")\n",
    "print(predict_prob(X_test, theta))\n",
    "print('actual lable is:')\n",
    "print(predict(X_test, theta))"
   ]
  }
 ],
 "metadata": {
  "hide_input": false,
  "kernelspec": {
   "display_name": "Python 3",
   "language": "python",
   "name": "python3"
  },
  "language_info": {
   "codemirror_mode": {
    "name": "ipython",
    "version": 3
   },
   "file_extension": ".py",
   "mimetype": "text/x-python",
   "name": "python",
   "nbconvert_exporter": "python",
   "pygments_lexer": "ipython3",
   "version": "3.6.2"
  },
  "toc": {
   "base_numbering": 1,
   "nav_menu": {},
   "number_sections": false,
   "sideBar": true,
   "skip_h1_title": true,
   "title_cell": "Table of Contents",
   "title_sidebar": "Contents",
   "toc_cell": false,
   "toc_position": {},
   "toc_section_display": true,
   "toc_window_display": false
  },
  "varInspector": {
   "cols": {
    "lenName": 16,
    "lenType": 16,
    "lenVar": 40
   },
   "kernels_config": {
    "python": {
     "delete_cmd_postfix": "",
     "delete_cmd_prefix": "del ",
     "library": "var_list.py",
     "varRefreshCmd": "print(var_dic_list())"
    },
    "r": {
     "delete_cmd_postfix": ") ",
     "delete_cmd_prefix": "rm(",
     "library": "var_list.r",
     "varRefreshCmd": "cat(var_dic_list()) "
    }
   },
   "types_to_exclude": [
    "module",
    "function",
    "builtin_function_or_method",
    "instance",
    "_Feature"
   ],
   "window_display": false
  }
 },
 "nbformat": 4,
 "nbformat_minor": 2
}
