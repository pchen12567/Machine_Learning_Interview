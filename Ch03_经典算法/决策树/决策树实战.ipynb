{
 "cells": [
  {
   "cell_type": "markdown",
   "metadata": {},
   "source": [
    "# 决策树实战"
   ]
  },
  {
   "cell_type": "markdown",
   "metadata": {},
   "source": [
    "## 01 What is Decision Tree"
   ]
  },
  {
   "cell_type": "markdown",
   "metadata": {},
   "source": [
    "先来看一个简单的决策树代码，使用scikit-learn里的DecisionTreeClassifier。"
   ]
  },
  {
   "cell_type": "code",
   "execution_count": 1,
   "metadata": {
    "ExecuteTime": {
     "end_time": "2019-06-26T23:04:02.327663Z",
     "start_time": "2019-06-26T23:04:00.899721Z"
    }
   },
   "outputs": [],
   "source": [
    "import numpy as np\n",
    "import matplotlib.pyplot as plt\n",
    "from sklearn import datasets\n",
    "\n",
    "%matplotlib inline"
   ]
  },
  {
   "cell_type": "code",
   "execution_count": 2,
   "metadata": {
    "ExecuteTime": {
     "end_time": "2019-06-26T23:04:02.336448Z",
     "start_time": "2019-06-26T23:04:02.330641Z"
    }
   },
   "outputs": [],
   "source": [
    "# 加载鸢尾花卉数据集\n",
    "iris = datasets.load_iris()"
   ]
  },
  {
   "cell_type": "code",
   "execution_count": 3,
   "metadata": {
    "ExecuteTime": {
     "end_time": "2019-06-26T23:04:02.347669Z",
     "start_time": "2019-06-26T23:04:02.339094Z"
    }
   },
   "outputs": [
    {
     "data": {
      "text/plain": [
       "(150, 4)"
      ]
     },
     "execution_count": 3,
     "metadata": {},
     "output_type": "execute_result"
    }
   ],
   "source": [
    "iris.data.shape"
   ]
  },
  {
   "cell_type": "code",
   "execution_count": 4,
   "metadata": {
    "ExecuteTime": {
     "end_time": "2019-06-26T23:04:02.373656Z",
     "start_time": "2019-06-26T23:04:02.360027Z"
    }
   },
   "outputs": [
    {
     "data": {
      "text/plain": [
       "(150,)"
      ]
     },
     "execution_count": 4,
     "metadata": {},
     "output_type": "execute_result"
    }
   ],
   "source": [
    "iris.target.shape"
   ]
  },
  {
   "cell_type": "code",
   "execution_count": 5,
   "metadata": {
    "ExecuteTime": {
     "end_time": "2019-06-26T23:04:02.385584Z",
     "start_time": "2019-06-26T23:04:02.379119Z"
    }
   },
   "outputs": [
    {
     "name": "stdout",
     "output_type": "stream",
     "text": [
      "[[1.4 0.2]\n",
      " [1.4 0.2]\n",
      " [1.3 0.2]\n",
      " [1.5 0.2]\n",
      " [1.4 0.2]\n",
      " [1.7 0.4]\n",
      " [1.4 0.3]\n",
      " [1.5 0.2]\n",
      " [1.4 0.2]\n",
      " [1.5 0.1]]\n",
      "(150, 2)\n"
     ]
    }
   ],
   "source": [
    "# 设置X\n",
    "X = iris.data[:, 2:]\n",
    "print(X[:10])\n",
    "print(X.shape)"
   ]
  },
  {
   "cell_type": "code",
   "execution_count": 6,
   "metadata": {
    "ExecuteTime": {
     "end_time": "2019-06-26T23:04:02.393287Z",
     "start_time": "2019-06-26T23:04:02.388273Z"
    }
   },
   "outputs": [
    {
     "name": "stdout",
     "output_type": "stream",
     "text": [
      "[0 0 0 0 0 0 0 0 0 0]\n",
      "(150,)\n"
     ]
    }
   ],
   "source": [
    "# 设置y\n",
    "y = iris.target\n",
    "print(y[:10])\n",
    "print(y.shape)"
   ]
  },
  {
   "cell_type": "code",
   "execution_count": 7,
   "metadata": {
    "ExecuteTime": {
     "end_time": "2019-06-26T23:04:02.620047Z",
     "start_time": "2019-06-26T23:04:02.395997Z"
    }
   },
   "outputs": [
    {
     "data": {
      "image/png": "[encoded data removed]",
      "text/plain": [
       "<Figure size 432x288 with 1 Axes>"
      ]
     },
     "metadata": {
      "needs_background": "light"
     },
     "output_type": "display_data"
    }
   ],
   "source": [
    "# 观察数据分布\n",
    "plt.scatter(X[y==0,0], X[y==0,1])\n",
    "plt.scatter(X[y==1,0], X[y==1,1])\n",
    "plt.scatter(X[y==2,0], X[y==2,1])\n",
    "plt.show()"
   ]
  },
  {
   "cell_type": "code",
   "execution_count": 8,
   "metadata": {
    "ExecuteTime": {
     "end_time": "2019-06-26T23:04:02.665827Z",
     "start_time": "2019-06-26T23:04:02.622728Z"
    }
   },
   "outputs": [],
   "source": [
    "from sklearn.tree import DecisionTreeClassifier"
   ]
  },
  {
   "cell_type": "code",
   "execution_count": 9,
   "metadata": {
    "ExecuteTime": {
     "end_time": "2019-06-26T23:04:02.676417Z",
     "start_time": "2019-06-26T23:04:02.668061Z"
    }
   },
   "outputs": [
    {
     "data": {
      "text/plain": [
       "DecisionTreeClassifier(class_weight=None, criterion='entropy', max_depth=2,\n",
       "            max_features=None, max_leaf_nodes=None,\n",
       "            min_impurity_decrease=0.0, min_impurity_split=None,\n",
       "            min_samples_leaf=1, min_samples_split=2,\n",
       "            min_weight_fraction_leaf=0.0, presort=False, random_state=42,\n",
       "            splitter='best')"
      ]
     },
     "execution_count": 9,
     "metadata": {},
     "output_type": "execute_result"
    }
   ],
   "source": [
    "# 设置决策树分类器并训练数据，使用最大信息增益作为分类条件\n",
    "dt_clf_entropy = DecisionTreeClassifier(max_depth=2, criterion='entropy', random_state=42)\n",
    "dt_clf_entropy.fit(X, y)"
   ]
  },
  {
   "cell_type": "code",
   "execution_count": 10,
   "metadata": {
    "ExecuteTime": {
     "end_time": "2019-06-26T23:04:02.689226Z",
     "start_time": "2019-06-26T23:04:02.679340Z"
    }
   },
   "outputs": [
    {
     "data": {
      "text/plain": [
       "DecisionTreeClassifier(class_weight=None, criterion='gini', max_depth=2,\n",
       "            max_features=None, max_leaf_nodes=None,\n",
       "            min_impurity_decrease=0.0, min_impurity_split=None,\n",
       "            min_samples_leaf=1, min_samples_split=2,\n",
       "            min_weight_fraction_leaf=0.0, presort=False, random_state=42,\n",
       "            splitter='best')"
      ]
     },
     "execution_count": 10,
     "metadata": {},
     "output_type": "execute_result"
    }
   ],
   "source": [
    "# 设置决策树分类器并训练数据，使用基尼指数作为分类条件\n",
    "dt_clf_gini = DecisionTreeClassifier(max_depth=2, criterion=\"gini\", random_state=42)\n",
    "dt_clf_gini.fit(X, y)"
   ]
  },
  {
   "cell_type": "markdown",
   "metadata": {},
   "source": [
    "绘制决策边界，更直观的了解决策树是怎么划分数据的。"
   ]
  },
  {
   "cell_type": "code",
   "execution_count": 11,
   "metadata": {
    "ExecuteTime": {
     "end_time": "2019-06-26T23:04:02.705740Z",
     "start_time": "2019-06-26T23:04:02.694258Z"
    }
   },
   "outputs": [],
   "source": [
    "def plot_decision_boundary(model, axis):\n",
    "    \n",
    "    x0, x1 = np.meshgrid(\n",
    "        np.linspace(axis[0], axis[1], int((axis[1]-axis[0])*100)).reshape(-1, 1),\n",
    "        np.linspace(axis[2], axis[3], int((axis[3]-axis[2])*100)).reshape(-1, 1),\n",
    "    )\n",
    "    X_new = np.c_[x0.ravel(), x1.ravel()]\n",
    "\n",
    "    y_predict = model.predict(X_new)\n",
    "    zz = y_predict.reshape(x0.shape)\n",
    "\n",
    "    from matplotlib.colors import ListedColormap\n",
    "    custom_cmap = ListedColormap(['#EF9A9A','#FFF59D','#90CAF9'])\n",
    "    \n",
    "    plt.contourf(x0, x1, zz, cmap=custom_cmap)"
   ]
  },
  {
   "cell_type": "markdown",
   "metadata": {},
   "source": [
    "查看根据最大信息增益分类后的情况"
   ]
  },
  {
   "cell_type": "code",
   "execution_count": 12,
   "metadata": {
    "ExecuteTime": {
     "end_time": "2019-06-26T23:04:02.986854Z",
     "start_time": "2019-06-26T23:04:02.709152Z"
    }
   },
   "outputs": [
    {
     "data": {
      "image/png": "[encoded data removed]",
      "text/plain": [
       "<Figure size 432x288 with 1 Axes>"
      ]
     },
     "metadata": {
      "needs_background": "light"
     },
     "output_type": "display_data"
    }
   ],
   "source": [
    "plot_decision_boundary(dt_clf_entropy, axis=[0.5, 7.5, 0, 3])\n",
    "plt.scatter(X[y==0,0], X[y==0,1])\n",
    "plt.scatter(X[y==1,0], X[y==1,1])\n",
    "plt.scatter(X[y==2,0], X[y==2,1])\n",
    "plt.show()"
   ]
  },
  {
   "cell_type": "markdown",
   "metadata": {},
   "source": [
    "查看根据基尼指数分类后的情况"
   ]
  },
  {
   "cell_type": "code",
   "execution_count": 13,
   "metadata": {
    "ExecuteTime": {
     "end_time": "2019-06-26T23:04:03.203147Z",
     "start_time": "2019-06-26T23:04:02.989080Z"
    }
   },
   "outputs": [
    {
     "data": {
      "image/png": "[encoded data removed]",
      "text/plain": [
       "<Figure size 432x288 with 1 Axes>"
      ]
     },
     "metadata": {
      "needs_background": "light"
     },
     "output_type": "display_data"
    }
   ],
   "source": [
    "plot_decision_boundary(dt_clf_gini, axis=[0.5, 7.5, 0, 3])\n",
    "plt.scatter(X[y==0,0], X[y==0,1])\n",
    "plt.scatter(X[y==1,0], X[y==1,1])\n",
    "plt.scatter(X[y==2,0], X[y==2,1])\n",
    "plt.show()"
   ]
  },
  {
   "cell_type": "markdown",
   "metadata": {},
   "source": [
    "## 02 Entropy"
   ]
  },
  {
   "cell_type": "markdown",
   "metadata": {},
   "source": [
    "决策树又称为判定树，是运用于分类的一种树结构，其中的**每个内部节点代表对某一属性的一次测试**，每条边代表一个测试结果，叶节点代表某个类或类的分布。\n",
    "\n",
    "那么如何确定**每个节点在哪个特征上做划分?每个特征在哪个值上做划分?**\n",
    "\n",
    "引入信息论中的熵的概念。\n",
    "\n",
    "熵在信息学中代表随机变量不确定度的度量。熵越大，数据的不确定性越高。\n",
    "\n",
    "所以可以通过划分前后熵的变化来确定每个节点的特征和每个特征的值的选择。\n",
    "\n",
    "经验熵的公式为:\n",
    "\n",
    "$$ H = - \\sum_{i=1}^k p_i \\log(p_i) $$"
   ]
  },
  {
   "cell_type": "code",
   "execution_count": 14,
   "metadata": {
    "ExecuteTime": {
     "end_time": "2019-06-26T23:04:03.208675Z",
     "start_time": "2019-06-26T23:04:03.205186Z"
    }
   },
   "outputs": [],
   "source": [
    "# 计算熵\n",
    "def entropy(p):\n",
    "    return -p * np.log(p) - (1 - p) * np.log(1 - p)"
   ]
  },
  {
   "cell_type": "code",
   "execution_count": 15,
   "metadata": {
    "ExecuteTime": {
     "end_time": "2019-06-26T23:04:03.213813Z",
     "start_time": "2019-06-26T23:04:03.210978Z"
    }
   },
   "outputs": [],
   "source": [
    "# 设置测试数据\n",
    "X = np.linspace(0.01, 0.99, 200)"
   ]
  },
  {
   "cell_type": "code",
   "execution_count": 16,
   "metadata": {
    "ExecuteTime": {
     "end_time": "2019-06-26T23:04:03.441901Z",
     "start_time": "2019-06-26T23:04:03.216362Z"
    }
   },
   "outputs": [
    {
     "data": {
      "image/png": "[encoded data removed]",
      "text/plain": [
       "<Figure size 432x288 with 1 Axes>"
      ]
     },
     "metadata": {
      "needs_background": "light"
     },
     "output_type": "display_data"
    }
   ],
   "source": [
    "# 可视化\n",
    "plt.plot(X, entropy(X))\n",
    "plt.show()"
   ]
  },
  {
   "cell_type": "markdown",
   "metadata": {},
   "source": [
    "## 03 Entropy Split Simulation - ID3"
   ]
  },
  {
   "cell_type": "markdown",
   "metadata": {},
   "source": [
    "通过最大化节点划分前后熵的差值，就是ID3"
   ]
  },
  {
   "cell_type": "code",
   "execution_count": 17,
   "metadata": {
    "ExecuteTime": {
     "end_time": "2019-06-26T23:04:03.447599Z",
     "start_time": "2019-06-26T23:04:03.444293Z"
    }
   },
   "outputs": [],
   "source": [
    "from collections import Counter"
   ]
  },
  {
   "cell_type": "code",
   "execution_count": 18,
   "metadata": {
    "ExecuteTime": {
     "end_time": "2019-06-26T23:04:03.460062Z",
     "start_time": "2019-06-26T23:04:03.455164Z"
    }
   },
   "outputs": [],
   "source": [
    "# 根据当前特征和划分边界值划分数据集\n",
    "def split(X, y, feature, split_value):\n",
    "    index_left = (X[:,feature] <= split_value)\n",
    "    index_right = (X[:,feature] > split_value)\n",
    "    return X[index_left], X[index_right], y[index_left], y[index_right]"
   ]
  },
  {
   "cell_type": "code",
   "execution_count": 19,
   "metadata": {
    "ExecuteTime": {
     "end_time": "2019-06-26T23:04:03.471149Z",
     "start_time": "2019-06-26T23:04:03.466221Z"
    }
   },
   "outputs": [],
   "source": [
    "# 计算经验熵\n",
    "def entropy(y):\n",
    "    counter = Counter(y)\n",
    "    res = 0.0\n",
    "    for num in counter.values():\n",
    "        p = num / len(y)\n",
    "        res += - p * np.log(p)\n",
    "    return res"
   ]
  },
  {
   "cell_type": "code",
   "execution_count": 20,
   "metadata": {
    "ExecuteTime": {
     "end_time": "2019-06-26T23:04:03.481832Z",
     "start_time": "2019-06-26T23:04:03.474207Z"
    }
   },
   "outputs": [],
   "source": [
    "# 找到最大的信息熵差值，最优的划分特征和最优的划分边界\n",
    "def try_split_entropy(X, y):\n",
    "    # 初始化最小entropy\n",
    "    best_entropy = float('inf')\n",
    "    \n",
    "    # 初始化最优划分特征和最优划分边界\n",
    "    best_feature, best_value = -1, -1\n",
    "    \n",
    "    # 遍历每个划分特征\n",
    "    for feature in range(X.shape[1]):\n",
    "        # 获得样本按照特征的数值升序排序后的index\n",
    "        sorted_index = np.argsort(X[:,feature])\n",
    "        \n",
    "        # 从第二个样本开始遍历每个样本\n",
    "        for i in range(1, len(X)):\n",
    "            \n",
    "            # 判断当前样本和前一个样本的特征值是否一致\n",
    "            if X[sorted_index[i], feature] != X[sorted_index[i - 1], feature]:\n",
    "                \n",
    "                # 获取划分边界值，将当前样本和前一个样本的均值作为划分边界\n",
    "                split_value = (X[sorted_index[i], feature] + X[sorted_index[i - 1], feature]) / 2\n",
    "                \n",
    "                # 根据当前特征和划分边界值划分数据集\n",
    "                X_left, X_right, y_left, y_right = split(X, y, feature, split_value)\n",
    "                \n",
    "                # 计算划分后的entropy\n",
    "                e = entropy(y_left) + entropy(y_right)\n",
    "                \n",
    "                # 取entropy的最小值\n",
    "                if e < best_entropy:\n",
    "                    best_entropy, best_feature, best_value = e, feature, split_value\n",
    "                    \n",
    "    return best_entropy, best_feature, best_value"
   ]
  },
  {
   "cell_type": "markdown",
   "metadata": {},
   "source": [
    "测试"
   ]
  },
  {
   "cell_type": "code",
   "execution_count": 21,
   "metadata": {
    "ExecuteTime": {
     "end_time": "2019-06-26T23:04:03.487260Z",
     "start_time": "2019-06-26T23:04:03.484371Z"
    }
   },
   "outputs": [],
   "source": [
    "# 设置X和y\n",
    "X = iris.data[:, 2:]\n",
    "y = iris.target"
   ]
  },
  {
   "cell_type": "markdown",
   "metadata": {},
   "source": [
    "第一次划分"
   ]
  },
  {
   "cell_type": "code",
   "execution_count": 22,
   "metadata": {
    "ExecuteTime": {
     "end_time": "2019-06-26T23:04:03.502927Z",
     "start_time": "2019-06-26T23:04:03.489323Z"
    }
   },
   "outputs": [
    {
     "name": "stdout",
     "output_type": "stream",
     "text": [
      "best_entropy1 = 0.6931471805599453\n",
      "best_feature1 = 0\n",
      "best_value1 = 2.45\n"
     ]
    }
   ],
   "source": [
    "best_entropy1, best_feature1, best_value1 = try_split_entropy(X, y)\n",
    "print(\"best_entropy1 =\", best_entropy1)\n",
    "print(\"best_feature1 =\", best_feature1)\n",
    "print(\"best_value1 =\", best_value1)"
   ]
  },
  {
   "cell_type": "code",
   "execution_count": 23,
   "metadata": {
    "ExecuteTime": {
     "end_time": "2019-06-26T23:04:03.512388Z",
     "start_time": "2019-06-26T23:04:03.507889Z"
    }
   },
   "outputs": [],
   "source": [
    "X1_l, X1_r, y1_l, y1_r = split(X, y, best_feature1, best_value1)"
   ]
  },
  {
   "cell_type": "code",
   "execution_count": 24,
   "metadata": {
    "ExecuteTime": {
     "end_time": "2019-06-26T23:04:03.521870Z",
     "start_time": "2019-06-26T23:04:03.514818Z"
    }
   },
   "outputs": [
    {
     "data": {
      "text/plain": [
       "0.0"
      ]
     },
     "execution_count": 24,
     "metadata": {},
     "output_type": "execute_result"
    }
   ],
   "source": [
    "entropy(y1_l)"
   ]
  },
  {
   "cell_type": "code",
   "execution_count": 25,
   "metadata": {
    "ExecuteTime": {
     "end_time": "2019-06-26T23:04:03.531156Z",
     "start_time": "2019-06-26T23:04:03.524499Z"
    }
   },
   "outputs": [
    {
     "data": {
      "text/plain": [
       "0.6931471805599453"
      ]
     },
     "execution_count": 25,
     "metadata": {},
     "output_type": "execute_result"
    }
   ],
   "source": [
    "entropy(y1_r)"
   ]
  },
  {
   "cell_type": "markdown",
   "metadata": {},
   "source": [
    "第二次划分，划分右边的数据集"
   ]
  },
  {
   "cell_type": "code",
   "execution_count": 26,
   "metadata": {
    "ExecuteTime": {
     "end_time": "2019-06-26T23:04:03.545614Z",
     "start_time": "2019-06-26T23:04:03.534592Z"
    }
   },
   "outputs": [
    {
     "name": "stdout",
     "output_type": "stream",
     "text": [
      "best_entropy2 = 0.4132278899361904\n",
      "best_feature2 = 1\n",
      "best_value2 = 1.75\n"
     ]
    }
   ],
   "source": [
    "best_entropy2, best_feature2, best_value2 = try_split_entropy(X1_r, y1_r)\n",
    "print(\"best_entropy2 =\", best_entropy2)\n",
    "print(\"best_feature2 =\", best_feature2)\n",
    "print(\"best_value2 =\", best_value2)"
   ]
  },
  {
   "cell_type": "code",
   "execution_count": 27,
   "metadata": {
    "ExecuteTime": {
     "end_time": "2019-06-26T23:04:03.551853Z",
     "start_time": "2019-06-26T23:04:03.548321Z"
    }
   },
   "outputs": [],
   "source": [
    "X2_l, X2_r, y2_l, y2_r = split(X1_r, y1_r, best_feature2, best_value2)"
   ]
  },
  {
   "cell_type": "code",
   "execution_count": 28,
   "metadata": {
    "ExecuteTime": {
     "end_time": "2019-06-26T23:04:03.560844Z",
     "start_time": "2019-06-26T23:04:03.556498Z"
    }
   },
   "outputs": [
    {
     "data": {
      "text/plain": [
       "0.30849545083110386"
      ]
     },
     "execution_count": 28,
     "metadata": {},
     "output_type": "execute_result"
    }
   ],
   "source": [
    "entropy(y2_l)"
   ]
  },
  {
   "cell_type": "code",
   "execution_count": 29,
   "metadata": {
    "ExecuteTime": {
     "end_time": "2019-06-26T23:04:03.568805Z",
     "start_time": "2019-06-26T23:04:03.563481Z"
    }
   },
   "outputs": [
    {
     "data": {
      "text/plain": [
       "0.10473243910508653"
      ]
     },
     "execution_count": 29,
     "metadata": {},
     "output_type": "execute_result"
    }
   ],
   "source": [
    "entropy(y2_r)"
   ]
  },
  {
   "cell_type": "markdown",
   "metadata": {},
   "source": [
    "## 04 Gini Index"
   ]
  },
  {
   "cell_type": "markdown",
   "metadata": {},
   "source": [
    "基尼指数代表了模型的纯度，基尼指数越小，则纯度越高，特征越好。 \n",
    "\n",
    "具体的，在分类问题中，假设有$K$个类别，第$k$个类别的概率为$p_k$, 则基尼指数的表达式为:\n",
    "\n",
    "$$ Gini(p) = 1 - \\sum_{k=1}^K p_k^2 $$"
   ]
  },
  {
   "cell_type": "markdown",
   "metadata": {},
   "source": [
    "**信息熵 VS 基尼指数**<br>\n",
    "- 信息熵计算较慢(涉及大量对数运算)\n",
    "- scikit-learn中默认为基尼系数\n",
    "- 大多数时候二者没有特别的效果优劣"
   ]
  },
  {
   "cell_type": "markdown",
   "metadata": {},
   "source": [
    "模拟使用基尼系数划分"
   ]
  },
  {
   "cell_type": "code",
   "execution_count": 30,
   "metadata": {
    "ExecuteTime": {
     "end_time": "2019-06-26T23:04:03.575810Z",
     "start_time": "2019-06-26T23:04:03.571406Z"
    }
   },
   "outputs": [],
   "source": [
    "# 计算基尼指数\n",
    "def gini(y):\n",
    "    counter = Counter(y)\n",
    "    res = 1.0\n",
    "    for num in counter.values():\n",
    "        p = num / len(y)\n",
    "        res -= p**2\n",
    "    return res"
   ]
  },
  {
   "cell_type": "code",
   "execution_count": 31,
   "metadata": {
    "ExecuteTime": {
     "end_time": "2019-06-26T23:04:03.585927Z",
     "start_time": "2019-06-26T23:04:03.578602Z"
    }
   },
   "outputs": [],
   "source": [
    "def try_split_gini(X, y):\n",
    "    # 初始化最小基尼指数\n",
    "    best_gini = float('inf')\n",
    "    \n",
    "    # 初始化最优划分特征和最优划分边界\n",
    "    best_feature, best_value = -1, -1\n",
    "    \n",
    "    # 遍历每个划分特征\n",
    "    for feature in range(X.shape[1]):\n",
    "        # 获得样本按照特征的数值升序排序后的index\n",
    "        sorted_index = np.argsort(X[:,feature])\n",
    "        \n",
    "        # 从第二个样本开始遍历每个样本\n",
    "        for i in range(1, len(X)):\n",
    "            \n",
    "            # 判断当前样本和前一个样本的特征值是否一致\n",
    "            if X[sorted_index[i], feature] != X[sorted_index[i - 1], feature]:\n",
    "                \n",
    "                # 获取划分边界值，将当前样本和前一个样本的均值作为划分边界\n",
    "                split_value = (X[sorted_index[i], feature] + X[sorted_index[i - 1], feature]) / 2\n",
    "                \n",
    "                # 根据当前特征和划分边界值划分数据集\n",
    "                X_left, X_right, y_left, y_right = split(X, y, feature, split_value)\n",
    "                \n",
    "                # 计算划分后的gini\n",
    "                g = gini(y_left) + gini(y_right)\n",
    "                \n",
    "                # 取gini的最小值\n",
    "                if g < best_gini:\n",
    "                    best_gini, best_feature, best_value = g, feature, split_value\n",
    "                    \n",
    "    return best_gini, best_feature, best_value"
   ]
  },
  {
   "cell_type": "markdown",
   "metadata": {},
   "source": [
    "测试"
   ]
  },
  {
   "cell_type": "code",
   "execution_count": 32,
   "metadata": {
    "ExecuteTime": {
     "end_time": "2019-06-26T23:04:03.591291Z",
     "start_time": "2019-06-26T23:04:03.588538Z"
    }
   },
   "outputs": [],
   "source": [
    "# 设置X和y\n",
    "X = iris.data[:, 2:]\n",
    "y = iris.target"
   ]
  },
  {
   "cell_type": "markdown",
   "metadata": {},
   "source": [
    "第一次划分"
   ]
  },
  {
   "cell_type": "code",
   "execution_count": 33,
   "metadata": {
    "ExecuteTime": {
     "end_time": "2019-06-26T23:04:03.605758Z",
     "start_time": "2019-06-26T23:04:03.593974Z"
    }
   },
   "outputs": [
    {
     "name": "stdout",
     "output_type": "stream",
     "text": [
      "best_gini1 = 0.5\n",
      "best_feature1 = 0\n",
      "best_value1 = 2.45\n"
     ]
    }
   ],
   "source": [
    "best_gini1, best_feature1, best_value1 = try_split_gini(X, y)\n",
    "print(\"best_gini1 =\", best_gini1)\n",
    "print(\"best_feature1 =\", best_feature1)\n",
    "print(\"best_value1 =\", best_value1)"
   ]
  },
  {
   "cell_type": "code",
   "execution_count": 34,
   "metadata": {
    "ExecuteTime": {
     "end_time": "2019-06-26T23:04:03.614719Z",
     "start_time": "2019-06-26T23:04:03.610509Z"
    }
   },
   "outputs": [],
   "source": [
    "X1_l, X1_r, y1_l, y1_r = split(X, y, best_feature1, best_value1)"
   ]
  },
  {
   "cell_type": "code",
   "execution_count": 35,
   "metadata": {
    "ExecuteTime": {
     "end_time": "2019-06-26T23:04:03.622727Z",
     "start_time": "2019-06-26T23:04:03.617125Z"
    }
   },
   "outputs": [
    {
     "data": {
      "text/plain": [
       "0.0"
      ]
     },
     "execution_count": 35,
     "metadata": {},
     "output_type": "execute_result"
    }
   ],
   "source": [
    "gini(y1_l)"
   ]
  },
  {
   "cell_type": "code",
   "execution_count": 36,
   "metadata": {
    "ExecuteTime": {
     "end_time": "2019-06-26T23:04:03.630547Z",
     "start_time": "2019-06-26T23:04:03.625397Z"
    }
   },
   "outputs": [
    {
     "data": {
      "text/plain": [
       "0.5"
      ]
     },
     "execution_count": 36,
     "metadata": {},
     "output_type": "execute_result"
    }
   ],
   "source": [
    "gini(y1_r)"
   ]
  },
  {
   "cell_type": "markdown",
   "metadata": {},
   "source": [
    "第二次划分，划分右边的数据集"
   ]
  },
  {
   "cell_type": "code",
   "execution_count": 37,
   "metadata": {
    "ExecuteTime": {
     "end_time": "2019-06-26T23:04:03.642691Z",
     "start_time": "2019-06-26T23:04:03.633246Z"
    }
   },
   "outputs": [
    {
     "name": "stdout",
     "output_type": "stream",
     "text": [
      "best_gini2 = 0.2105714900645938\n",
      "best_feature2 = 1\n",
      "best_value2 = 1.75\n"
     ]
    }
   ],
   "source": [
    "best_gini2, best_feature2, best_value2 = try_split_gini(X1_r, y1_r)\n",
    "print(\"best_gini2 =\", best_gini2)\n",
    "print(\"best_feature2 =\", best_feature2)\n",
    "print(\"best_value2 =\", best_value2)"
   ]
  },
  {
   "cell_type": "code",
   "execution_count": 38,
   "metadata": {
    "ExecuteTime": {
     "end_time": "2019-06-26T23:04:03.650350Z",
     "start_time": "2019-06-26T23:04:03.646710Z"
    }
   },
   "outputs": [],
   "source": [
    "X2_l, X2_r, y2_l, y2_r = split(X1_r, y1_r, best_feature2, best_value2)"
   ]
  },
  {
   "cell_type": "code",
   "execution_count": 39,
   "metadata": {
    "ExecuteTime": {
     "end_time": "2019-06-26T23:04:03.657944Z",
     "start_time": "2019-06-26T23:04:03.653135Z"
    }
   },
   "outputs": [
    {
     "data": {
      "text/plain": [
       "0.1680384087791495"
      ]
     },
     "execution_count": 39,
     "metadata": {},
     "output_type": "execute_result"
    }
   ],
   "source": [
    "gini(y2_l)"
   ]
  },
  {
   "cell_type": "code",
   "execution_count": 40,
   "metadata": {
    "ExecuteTime": {
     "end_time": "2019-06-26T23:04:03.664385Z",
     "start_time": "2019-06-26T23:04:03.659952Z"
    }
   },
   "outputs": [
    {
     "data": {
      "text/plain": [
       "0.04253308128544431"
      ]
     },
     "execution_count": 40,
     "metadata": {},
     "output_type": "execute_result"
    }
   ],
   "source": [
    "gini(y2_r)"
   ]
  },
  {
   "cell_type": "markdown",
   "metadata": {},
   "source": [
    "## 05 CART and Decisioin Tree Hyperparameters"
   ]
  },
  {
   "cell_type": "markdown",
   "metadata": {},
   "source": [
    "分析一下skitit learn中DecisionTreeClassifier(默认为CART)的超参数。使用sklearn中的moons数据集。"
   ]
  },
  {
   "cell_type": "markdown",
   "metadata": {},
   "source": [
    "数据分布"
   ]
  },
  {
   "cell_type": "code",
   "execution_count": 41,
   "metadata": {
    "ExecuteTime": {
     "end_time": "2019-06-26T23:04:03.670983Z",
     "start_time": "2019-06-26T23:04:03.666777Z"
    }
   },
   "outputs": [],
   "source": [
    "from sklearn import datasets\n",
    "\n",
    "X, y = datasets.make_moons(noise=0.25, random_state=666)"
   ]
  },
  {
   "cell_type": "code",
   "execution_count": 42,
   "metadata": {
    "ExecuteTime": {
     "end_time": "2019-06-26T23:04:03.896052Z",
     "start_time": "2019-06-26T23:04:03.673572Z"
    }
   },
   "outputs": [
    {
     "data": {
      "image/png": "[encoded data removed]",
      "text/plain": [
       "<Figure size 432x288 with 1 Axes>"
      ]
     },
     "metadata": {
      "needs_background": "light"
     },
     "output_type": "display_data"
    }
   ],
   "source": [
    "plt.scatter(X[y==0,0], X[y==0,1])\n",
    "plt.scatter(X[y==1,0], X[y==1,1])\n",
    "plt.show()"
   ]
  },
  {
   "cell_type": "markdown",
   "metadata": {},
   "source": [
    "### 不传超参数时的决策边界"
   ]
  },
  {
   "cell_type": "code",
   "execution_count": 43,
   "metadata": {
    "ExecuteTime": {
     "end_time": "2019-06-26T23:04:03.905520Z",
     "start_time": "2019-06-26T23:04:03.898599Z"
    }
   },
   "outputs": [
    {
     "data": {
      "text/plain": [
       "DecisionTreeClassifier(class_weight=None, criterion='gini', max_depth=None,\n",
       "            max_features=None, max_leaf_nodes=None,\n",
       "            min_impurity_decrease=0.0, min_impurity_split=None,\n",
       "            min_samples_leaf=1, min_samples_split=2,\n",
       "            min_weight_fraction_leaf=0.0, presort=False, random_state=None,\n",
       "            splitter='best')"
      ]
     },
     "execution_count": 43,
     "metadata": {},
     "output_type": "execute_result"
    }
   ],
   "source": [
    "dt_clf = DecisionTreeClassifier()\n",
    "dt_clf.fit(X, y)"
   ]
  },
  {
   "cell_type": "code",
   "execution_count": 44,
   "metadata": {
    "ExecuteTime": {
     "end_time": "2019-06-26T23:04:04.136667Z",
     "start_time": "2019-06-26T23:04:03.907978Z"
    }
   },
   "outputs": [
    {
     "data": {
      "image/png": "[encoded data removed]",
      "text/plain": [
       "<Figure size 432x288 with 1 Axes>"
      ]
     },
     "metadata": {
      "needs_background": "light"
     },
     "output_type": "display_data"
    }
   ],
   "source": [
    "plot_decision_boundary(dt_clf, axis=[-1.5, 2.5, -1.0, 1.5])\n",
    "plt.scatter(X[y==0,0], X[y==0,1])\n",
    "plt.scatter(X[y==1,0], X[y==1,1])\n",
    "plt.show()"
   ]
  },
  {
   "cell_type": "markdown",
   "metadata": {},
   "source": [
    "**可以看到过拟合的情况发生。**"
   ]
  },
  {
   "cell_type": "markdown",
   "metadata": {},
   "source": [
    "### 加超参数max_depth=2"
   ]
  },
  {
   "cell_type": "code",
   "execution_count": 45,
   "metadata": {
    "ExecuteTime": {
     "end_time": "2019-06-26T23:04:04.351219Z",
     "start_time": "2019-06-26T23:04:04.138768Z"
    }
   },
   "outputs": [
    {
     "data": {
      "image/png": "[encoded data removed]",
      "text/plain": [
       "<Figure size 432x288 with 1 Axes>"
      ]
     },
     "metadata": {
      "needs_background": "light"
     },
     "output_type": "display_data"
    }
   ],
   "source": [
    "dt_clf2 = DecisionTreeClassifier(max_depth=2)\n",
    "dt_clf2.fit(X, y)\n",
    "\n",
    "plot_decision_boundary(dt_clf2, axis=[-1.5, 2.5, -1.0, 1.5])\n",
    "plt.scatter(X[y==0,0], X[y==0,1])\n",
    "plt.scatter(X[y==1,0], X[y==1,1])\n",
    "plt.show()"
   ]
  },
  {
   "cell_type": "markdown",
   "metadata": {},
   "source": [
    "**可以看到效果好了很多**"
   ]
  },
  {
   "cell_type": "markdown",
   "metadata": {},
   "source": [
    "### 加超参数min_samples_split=10，内部节点再划分所需最小样本数，默认值为2。"
   ]
  },
  {
   "cell_type": "code",
   "execution_count": 46,
   "metadata": {
    "ExecuteTime": {
     "end_time": "2019-06-26T23:04:04.570389Z",
     "start_time": "2019-06-26T23:04:04.355031Z"
    }
   },
   "outputs": [
    {
     "data": {
      "image/png": "[encoded data removed]",
      "text/plain": [
       "<Figure size 432x288 with 1 Axes>"
      ]
     },
     "metadata": {
      "needs_background": "light"
     },
     "output_type": "display_data"
    }
   ],
   "source": [
    "dt_clf3 = DecisionTreeClassifier(min_samples_split=10)\n",
    "dt_clf3.fit(X, y)\n",
    "\n",
    "plot_decision_boundary(dt_clf3, axis=[-1.5, 2.5, -1.0, 1.5])\n",
    "plt.scatter(X[y==0,0], X[y==0,1])\n",
    "plt.scatter(X[y==1,0], X[y==1,1])\n",
    "plt.show()"
   ]
  },
  {
   "cell_type": "markdown",
   "metadata": {},
   "source": [
    "**显而易见，节点再划分所需的样本数提高，可以增加泛化能力。**"
   ]
  },
  {
   "cell_type": "markdown",
   "metadata": {},
   "source": [
    "### min_samples_leaf=6"
   ]
  },
  {
   "cell_type": "markdown",
   "metadata": {},
   "source": [
    "叶是决策树的末端节点。较小的叶子使模型更容易捕捉训练数据中的噪声。一般来说，更偏向于将最小叶子节点数目设置为大于50。在具体的情况中，应该尽量尝试多种叶子大小种类，以找到最优的那个。"
   ]
  },
  {
   "cell_type": "code",
   "execution_count": 47,
   "metadata": {
    "ExecuteTime": {
     "end_time": "2019-06-26T23:04:04.786769Z",
     "start_time": "2019-06-26T23:04:04.572596Z"
    }
   },
   "outputs": [
    {
     "data": {
      "image/png": "[encoded data removed]",
      "text/plain": [
       "<Figure size 432x288 with 1 Axes>"
      ]
     },
     "metadata": {
      "needs_background": "light"
     },
     "output_type": "display_data"
    }
   ],
   "source": [
    "dt_clf4 = DecisionTreeClassifier(min_samples_leaf=6)\n",
    "dt_clf4.fit(X, y)\n",
    "\n",
    "plot_decision_boundary(dt_clf4, axis=[-1.5, 2.5, -1.0, 1.5])\n",
    "plt.scatter(X[y==0,0], X[y==0,1])\n",
    "plt.scatter(X[y==1,0], X[y==1,1])\n",
    "plt.show()"
   ]
  },
  {
   "cell_type": "markdown",
   "metadata": {},
   "source": [
    "### max_leaf_nodes=4"
   ]
  },
  {
   "cell_type": "markdown",
   "metadata": {},
   "source": [
    "通过限制最大叶子节点数，可以防止过拟合，默认是\"None”，即不限制最大的叶子节点数。如果加了限制，算法会建立在最大叶子节点数内最优的决策树。如果特征不多，可以不考虑这个值，但是如果特征分成多的话，可以加以限制，具体的值可以通过交叉验证得到。"
   ]
  },
  {
   "cell_type": "code",
   "execution_count": 48,
   "metadata": {
    "ExecuteTime": {
     "end_time": "2019-06-26T23:04:05.028015Z",
     "start_time": "2019-06-26T23:04:04.788684Z"
    }
   },
   "outputs": [
    {
     "data": {
      "image/png": "[encoded data removed]",
      "text/plain": [
       "<Figure size 432x288 with 1 Axes>"
      ]
     },
     "metadata": {
      "needs_background": "light"
     },
     "output_type": "display_data"
    }
   ],
   "source": [
    "dt_clf5 = DecisionTreeClassifier(max_leaf_nodes=4)\n",
    "dt_clf5.fit(X, y)\n",
    "\n",
    "plot_decision_boundary(dt_clf5, axis=[-1.5, 2.5, -1.0, 1.5])\n",
    "plt.scatter(X[y==0,0], X[y==0,1])\n",
    "plt.scatter(X[y==1,0], X[y==1,1])\n",
    "plt.show()"
   ]
  }
 ],
 "metadata": {
  "hide_input": false,
  "kernelspec": {
   "display_name": "Python 3",
   "language": "python",
   "name": "python3"
  },
  "language_info": {
   "codemirror_mode": {
    "name": "ipython",
    "version": 3
   },
   "file_extension": ".py",
   "mimetype": "text/x-python",
   "name": "python",
   "nbconvert_exporter": "python",
   "pygments_lexer": "ipython3",
   "version": "3.6.2"
  },
  "toc": {
   "base_numbering": 1,
   "nav_menu": {},
   "number_sections": false,
   "sideBar": true,
   "skip_h1_title": true,
   "title_cell": "Table of Contents",
   "title_sidebar": "Contents",
   "toc_cell": false,
   "toc_position": {},
   "toc_section_display": true,
   "toc_window_display": false
  },
  "varInspector": {
   "cols": {
    "lenName": 16,
    "lenType": 16,
    "lenVar": 40
   },
   "kernels_config": {
    "python": {
     "delete_cmd_postfix": "",
     "delete_cmd_prefix": "del ",
     "library": "var_list.py",
     "varRefreshCmd": "print(var_dic_list())"
    },
    "r": {
     "delete_cmd_postfix": ") ",
     "delete_cmd_prefix": "rm(",
     "library": "var_list.r",
     "varRefreshCmd": "cat(var_dic_list()) "
    }
   },
   "types_to_exclude": [
    "module",
    "function",
    "builtin_function_or_method",
    "instance",
    "_Feature"
   ],
   "window_display": false
  }
 },
 "nbformat": 4,
 "nbformat_minor": 2
}
